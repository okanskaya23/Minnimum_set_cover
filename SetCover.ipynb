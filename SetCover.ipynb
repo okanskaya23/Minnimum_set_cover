{
  "nbformat": 4,
  "nbformat_minor": 0,
  "metadata": {
    "colab": {
      "name": "CS301Proj.ipynb",
      "provenance": [],
      "collapsed_sections": []
    },
    "kernelspec": {
      "display_name": "Python 3",
      "name": "python3"
    },
    "language_info": {
      "name": "python"
    }
  },
  "cells": [
    {
      "cell_type": "code",
      "metadata": {
        "id": "lCHhgFAYPXhS"
      },
      "source": [
        "import random\n",
        "import time\n",
        "import itertools\n",
        "import sys;"
      ],
      "execution_count": null,
      "outputs": []
    },
    {
      "cell_type": "markdown",
      "metadata": {
        "id": "pcNPKVkhcUNR"
      },
      "source": [
        "# **Random Subset Genaration**"
      ]
    },
    {
      "cell_type": "code",
      "metadata": {
        "id": "KtK_0CokPb86"
      },
      "source": [
        "#Get all posible subsets of Domain\n",
        "def powerset(iterable):\n",
        "    s = set(iterable)\n",
        "    subsets = list(itertools.chain.from_iterable(itertools.combinations(s, r) for r in range(1,len(s)+1)))\n",
        "    return [set(i) for i in subsets]\n"
      ],
      "execution_count": null,
      "outputs": []
    },
    {
      "cell_type": "code",
      "metadata": {
        "id": "1Da_MVbDfhma"
      },
      "source": [
        "#Remove som of the subsets in order to provide randomness \n",
        "def ramdomSubset(allsubset):\n",
        "    ramdomSample = []\n",
        "    for i in range (0,len(allsubset)):\n",
        "      if random.randint(0, 1) == 1 or len(allsubset[i]) == 1: #Don't remove sets with 1 element in order to ensure subsets cover all of the domain elements\n",
        "        ramdomSample.append(allsubset[i])\n",
        "    return ramdomSample"
      ],
      "execution_count": null,
      "outputs": []
    },
    {
      "cell_type": "markdown",
      "metadata": {
        "id": "E77dl8rscmeL"
      },
      "source": [
        "# **Naive Approch**\n",
        "\n",
        "\n"
      ]
    },
    {
      "cell_type": "code",
      "metadata": {
        "id": "XpzOlFqTtfbL"
      },
      "source": [
        "def genarate_output(domain):\n",
        "  U = set(domain)\n",
        "  allPosibleSubsets = powerset(domain)\n",
        "  Subsets = ramdomSubset(allPosibleSubsets)\n",
        "  return U,Subsets\n",
        "\n",
        "\n",
        "def minimumCover(U,Subsets):\n",
        "  allPosibleCombinationsOfGivenSubsets = list(itertools.chain.from_iterable(itertools.combinations(Subsets, r) for r in range(1,len(Subsets)+1))) #Complexity O(n * 2^n)\n",
        "  allPosibleCombinationsOfGivenSubsets = [list(i) for i in allPosibleCombinationsOfGivenSubsets] #Complexity O(n)\n",
        "  Count = sys.maxsize #Complexity O(1)\n",
        "  for i in allPosibleCombinationsOfGivenSubsets: #Complexity O(2^n)\n",
        "    if set().union(*i) == U:\n",
        "      if len(i) < Count:\n",
        "        Count = len(i)\n",
        "        print(\"One of the optimal Solutions: \",i)\n",
        "        print(\"Set Count:\", len(i))\n",
        "        print(\"Universal Set\", U)\n"
      ],
      "execution_count": null,
      "outputs": []
    },
    {
      "cell_type": "code",
      "metadata": {
        "colab": {
          "base_uri": "https://localhost:8080/"
        },
        "id": "xVD_H1Bft3SK",
        "outputId": "366d58e3-8ebb-4651-82ba-ee7ca928fd8b"
      },
      "source": [
        "U,Subsets = genarate_output(\"123\")\n",
        "minimumCover(U,Subsets)\n",
        "print(\"Subsets:\",Subsets)"
      ],
      "execution_count": null,
      "outputs": [
        {
          "output_type": "stream",
          "name": "stdout",
          "text": [
            "One of the optimal Solutions:  [{'2'}, {'1', '3'}]\n",
            "Set Count: 2\n",
            "Universal Set {'2', '1', '3'}\n",
            "Subsets: [{'2'}, {'1'}, {'3'}, {'1', '3'}]\n"
          ]
        }
      ]
    },
    {
      "cell_type": "code",
      "metadata": {
        "colab": {
          "base_uri": "https://localhost:8080/"
        },
        "id": "QxbL0h7dOj_f",
        "outputId": "909feb90-8b63-405b-9f0e-c32ca6215bcb"
      },
      "source": [
        "U,Subsets = genarate_output(\"123\")\n",
        "minimumCover(U,Subsets)\n",
        "print(\"Subsets:\",Subsets)"
      ],
      "execution_count": null,
      "outputs": [
        {
          "output_type": "stream",
          "name": "stdout",
          "text": [
            "One of the optimal Solutions:  [{'2', '1', '3'}]\n",
            "Set Count: 1\n",
            "Universal Set {'2', '1', '3'}\n",
            "Subsets: [{'2'}, {'1'}, {'3'}, {'2', '3'}, {'2', '1', '3'}]\n"
          ]
        }
      ]
    },
    {
      "cell_type": "code",
      "metadata": {
        "colab": {
          "base_uri": "https://localhost:8080/"
        },
        "id": "7ZQ5SGGHJnrh",
        "outputId": "de798d7a-2169-40f2-9368-183068ad01f9"
      },
      "source": [
        "U,Subsets = genarate_output(\"1234\")\n",
        "minimumCover(U,Subsets)\n",
        "print(Subsets)"
      ],
      "execution_count": null,
      "outputs": [
        {
          "output_type": "stream",
          "name": "stdout",
          "text": [
            "One of the optimal Solutions:  [{'2'}, {'4', '1', '3'}]\n",
            "Set Count: 2\n",
            "Universal Set {'2', '4', '1', '3'}\n",
            "[{'2'}, {'4'}, {'1'}, {'3'}, {'2', '4'}, {'2', '3'}, {'4', '3'}, {'2', '1', '3'}, {'4', '1', '3'}]\n"
          ]
        }
      ]
    },
    {
      "cell_type": "code",
      "metadata": {
        "colab": {
          "base_uri": "https://localhost:8080/"
        },
        "id": "E-lZ6ckVOnaY",
        "outputId": "294b1b3c-057f-4005-cf34-9aa1e494f540"
      },
      "source": [
        "U,Subsets = genarate_output(\"1234\")\n",
        "minimumCover(U,Subsets)\n",
        "print(Subsets)"
      ],
      "execution_count": null,
      "outputs": [
        {
          "output_type": "stream",
          "name": "stdout",
          "text": [
            "One of the optimal Solutions:  [{'2'}, {'4', '1', '3'}]\n",
            "Set Count: 2\n",
            "Universal Set {'2', '4', '1', '3'}\n",
            "[{'2'}, {'4'}, {'1'}, {'3'}, {'2', '1'}, {'2', '3'}, {'4', '3'}, {'1', '3'}, {'2', '4', '3'}, {'4', '1', '3'}]\n"
          ]
        }
      ]
    },
    {
      "cell_type": "code",
      "metadata": {
        "colab": {
          "base_uri": "https://localhost:8080/"
        },
        "id": "AqKQfSYcJ_2r",
        "outputId": "786cf4ec-1aab-4438-ea03-739fb990602e"
      },
      "source": [
        "U,Subsets = genarate_output(\"12345\")\n",
        "minimumCover(U,Subsets)"
      ],
      "execution_count": null,
      "outputs": [
        {
          "output_type": "stream",
          "name": "stdout",
          "text": [
            "One of the optimal Solutions:  [{'4'}, {'3', '2', '1', '5'}]\n",
            "Set Count: 2\n",
            "Universal Set {'3', '1', '4', '5', '2'}\n"
          ]
        }
      ]
    },
    {
      "cell_type": "code",
      "metadata": {
        "colab": {
          "base_uri": "https://localhost:8080/"
        },
        "id": "hP5LqBvYKD0e",
        "outputId": "0755d76f-7c02-45ab-e0f8-387a04735971"
      },
      "source": [
        "U,Subsets = genarate_output(\"ABCDE\")\n",
        "minimumCover(U,Subsets)"
      ],
      "execution_count": null,
      "outputs": [
        {
          "output_type": "stream",
          "name": "stdout",
          "text": [
            "One of the optimal Solutions:  [{'A'}, {'D', 'B', 'C', 'E'}]\n",
            "Set Count: 2\n",
            "Universal Set {'A', 'C', 'D', 'B', 'E'}\n"
          ]
        }
      ]
    },
    {
      "cell_type": "code",
      "metadata": {
        "id": "Ze5T1qK5KGBI",
        "colab": {
          "base_uri": "https://localhost:8080/"
        },
        "outputId": "ee08dcfb-90ca-4eb4-ae4a-dd0e0e626365"
      },
      "source": [
        "U,Subsets = genarate_output(\"123\")\n",
        "minimumCover(U,Subsets)\n",
        "print(\"Subsets:\",Subsets)\n",
        "\n"
      ],
      "execution_count": null,
      "outputs": [
        {
          "output_type": "stream",
          "name": "stdout",
          "text": [
            "One of the optimal Solutions:  [{'2', '3', '1'}]\n",
            "Set Count: 1\n",
            "Universal Set {'2', '3', '1'}\n",
            "Subsets: [{'2'}, {'3'}, {'1'}, {'2', '1'}, {'3', '1'}, {'2', '3', '1'}]\n"
          ]
        }
      ]
    },
    {
      "cell_type": "code",
      "metadata": {
        "id": "8kZM8Wx_3jO6"
      },
      "source": [
        "l = [0,0,0]\n",
        "for i in Subsets:\n",
        "  for j in i:\n",
        "    l[int(j) - 1] += 1\n",
        "  "
      ],
      "execution_count": null,
      "outputs": []
    },
    {
      "cell_type": "code",
      "metadata": {
        "id": "PLxBCVLa4PUP",
        "colab": {
          "base_uri": "https://localhost:8080/"
        },
        "outputId": "0731b519-bdb4-41c6-8b1f-2fdeac7c71d0"
      },
      "source": [
        "l"
      ],
      "execution_count": null,
      "outputs": [
        {
          "output_type": "execute_result",
          "data": {
            "text/plain": [
              "[4, 3, 3]"
            ]
          },
          "metadata": {},
          "execution_count": 17
        }
      ]
    },
    {
      "cell_type": "code",
      "metadata": {
        "id": "DEoc1pYd4QFK"
      },
      "source": [
        ""
      ],
      "execution_count": null,
      "outputs": []
    }
  ]
}